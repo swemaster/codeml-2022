{
 "cells": [
  {
   "cell_type": "code",
   "execution_count": 134,
   "metadata": {},
   "outputs": [],
   "source": [
    "# code made by team: leet\n",
    "#Participants:\n",
    "#charles-francis damedey\n",
    "#Benjamin Dancause\n",
    "#Dimitrios Nassif\n",
    "#-----------------------\n",
    "# importing libraries\n",
    "import csv\n",
    "import numpy as np\n",
    "import pandas as pd\n",
    "from sklearn.model_selection import train_test_split\n",
    "from sklearn.datasets import make_classification\n",
    "from sklearn.multioutput import MultiOutputClassifier\n",
    "from sklearn.ensemble import RandomForestClassifier\n",
    "from sklearn.utils import shuffle\n",
    "##############################################################\n",
    "from sklearn.feature_extraction.text import TfidfVectorizer\n",
    "from sklearn.feature_selection import chi2\n",
    "from sklearn import feature_extraction\n",
    "from sklearn import pipeline\n",
    "from sklearn import linear_model\n",
    "from IPython.display import display\n",
    "from sklearn.model_selection import train_test_split\n",
    "from sklearn.feature_extraction.text import TfidfTransformer\n",
    "from sklearn.naive_bayes import MultinomialNB\n",
    "from sklearn.linear_model import LogisticRegression\n",
    "from sklearn.ensemble import RandomForestClassifier\n",
    "from sklearn.svm import LinearSVC\n",
    "from sklearn.model_selection import cross_val_score\n",
    "from sklearn.metrics import confusion_matrix\n",
    "from sklearn import metrics"
   ]
  },
  {
   "cell_type": "code",
   "execution_count": 135,
   "metadata": {},
   "outputs": [],
   "source": [
    "path = \"datasets.csv\"\n",
    "\n",
    "# dataset manipulations\n",
    "names = ['ID', 'function_source', 'CWE-119', 'CWE-120',\t'CWE-476', 'CWE-468', 'CWE-other']\n",
    "df = pd.read_csv(path, names=names  )\n",
    "\n",
    "#print(df.shape);print(df.head(10))"
   ]
  },
  {
   "cell_type": "code",
   "execution_count": 136,
   "metadata": {},
   "outputs": [],
   "source": [
    "# learning set from 1 to 85805\n",
    "\n",
    "#learn_set = df.iloc[1:85805]\n",
    "\n",
    "#cut the data because its too big\n",
    "learn_set = df.iloc[1:10000]\n",
    "\n",
    "x = learn_set.iloc[:,1]\n",
    "\n",
    "#cwe\n",
    "y1 = learn_set.iloc[:,2]\n",
    "#cwe\n",
    "y2 = learn_set.iloc[:,3]\n",
    "#cwe\n",
    "y3 = learn_set.iloc[:,4]\n",
    "#cwe\n",
    "y4 = learn_set.iloc[:,5]\n",
    "#other\n",
    "y5 = learn_set.iloc[:,6]\n",
    "\n",
    "\n",
    "#print(y1);print(y5)"
   ]
  },
  {
   "cell_type": "code",
   "execution_count": 137,
   "metadata": {},
   "outputs": [],
   "source": [
    "# test set from 85806 to 105231\n",
    "\n",
    "X = df.iloc[85805:105232]\n",
    "X = X.iloc[:,1]\n",
    "#cwe\n",
    "Y1 = df.iloc[85805:105232]\n",
    "Y1 = Y1.iloc[:,2]\n",
    "#cwe\n",
    "Y2 = df.iloc[85805:105232]\n",
    "Y2 = Y2.iloc[:,3]\n",
    "#cwe\n",
    "Y3 = df.iloc[85805:105232]\n",
    "Y3 = Y3.iloc[:,4]\n",
    "#cwe\n",
    "Y4 = df.iloc[85805:105232]\n",
    "Y4 = Y4.iloc[:,5]\n",
    "#other\n",
    "Y5 = df.iloc[85805:105232]\n",
    "Y5 = Y5.iloc[:,6]\n",
    "\n",
    "\n",
    "#print(Y1);print(Y5)"
   ]
  },
  {
   "cell_type": "code",
   "execution_count": 138,
   "metadata": {},
   "outputs": [],
   "source": [
    "\n",
    "# example of a multi-output regression problem\n",
    "from sklearn.datasets import make_regression\n",
    "# create dataset\n",
    "X, y = make_regression(n_samples=10000, n_features=10, n_informative=1, n_targets=5, random_state=2)"
   ]
  },
  {
   "cell_type": "code",
   "execution_count": 139,
   "metadata": {},
   "outputs": [],
   "source": [
    "# get the model\n",
    "from sklearn.feature_selection import Sequential\n",
    "from sklearn.feature_selection import Dense\n",
    "import tensorflow as tf\n",
    "\n",
    "def get_model(n_inputs, n_outputs):\n",
    "\tmodel = Sequential()\n",
    "\tmodel.add(Dense(20, input_dim=n_inputs, kernel_initializer='he_uniform', activation='relu'))\n",
    "\tmodel.add(Dense(n_outputs))\n",
    "\tmodel.compile(loss='mae', optimizer='adam')\n",
    "\treturn model"
   ]
  },
  {
   "cell_type": "code",
   "execution_count": null,
   "metadata": {},
   "outputs": [],
   "source": []
  },
  {
   "cell_type": "code",
   "execution_count": 140,
   "metadata": {},
   "outputs": [],
   "source": [
    "# Collection the first row is x\n",
    "# # Target or the labels we want to predict (i.e., the 13 different complaints of products)\n",
    "x_train, x_test, y_train, y_test = train_test_split(x, y1, test_size=0.2, random_state = 0)"
   ]
  },
  {
   "cell_type": "code",
   "execution_count": 141,
   "metadata": {},
   "outputs": [],
   "source": [
    "# learn_set = df.iloc[1:85805]\n",
    "# test set from 85806 to 105231\n",
    "\n",
    "#CWE-119', 'CWE-120', 'CWE-476', 'CWE-468', 'CWE-other'\n",
    "#df['CWE-119']\n",
    "#print(temp) \n",
    "\n",
    "df.to_csv(r'C:\\Users\\mstr\\Documents\\GitHub\\CodeML22 code\\challenge 4\\output.csv', index = False, header=True)"
   ]
  },
  {
   "cell_type": "code",
   "execution_count": null,
   "metadata": {},
   "outputs": [],
   "source": []
  }
 ],
 "metadata": {
  "kernelspec": {
   "display_name": "Python 3.9.13 64-bit (microsoft store)",
   "language": "python",
   "name": "python3"
  },
  "language_info": {
   "codemirror_mode": {
    "name": "ipython",
    "version": 3
   },
   "file_extension": ".py",
   "mimetype": "text/x-python",
   "name": "python",
   "nbconvert_exporter": "python",
   "pygments_lexer": "ipython3",
   "version": "3.9.13"
  },
  "orig_nbformat": 4,
  "vscode": {
   "interpreter": {
    "hash": "74240e1388f775f6a25796995e248cd3c384138bceb666c80cf8a8cc28a81df4"
   }
  }
 },
 "nbformat": 4,
 "nbformat_minor": 2
}
